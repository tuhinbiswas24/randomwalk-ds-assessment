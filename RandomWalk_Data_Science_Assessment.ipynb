{
  "nbformat": 4,
  "nbformat_minor": 0,
  "metadata": {
    "colab": {
      "provenance": [],
      "authorship_tag": "ABX9TyNZBegfYymc0ac7JtzP3z00",
      "include_colab_link": true
    },
    "kernelspec": {
      "name": "python3",
      "display_name": "Python 3"
    },
    "language_info": {
      "name": "python"
    }
  },
  "cells": [
    {
      "cell_type": "markdown",
      "metadata": {
        "id": "view-in-github",
        "colab_type": "text"
      },
      "source": [
        "<a href=\"https://colab.research.google.com/github/tuhinbiswas24/randomwalk-ds-assessment/blob/main/RandomWalk_Data_Science_Assessment.ipynb\" target=\"_parent\"><img src=\"https://colab.research.google.com/assets/colab-badge.svg\" alt=\"Open In Colab\"/></a>"
      ]
    },
    {
      "cell_type": "code",
      "execution_count": 1,
      "metadata": {
        "id": "xH1xPjN9SFco"
      },
      "outputs": [],
      "source": [
        "import pandas as pd\n",
        "import numpy as np\n",
        "import matplotlib.pyplot as plt"
      ]
    },
    {
      "cell_type": "code",
      "source": [
        "df=pd.read_csv('books.csv')"
      ],
      "metadata": {
        "id": "qxvbKdFZS_7V"
      },
      "execution_count": 2,
      "outputs": []
    },
    {
      "cell_type": "code",
      "source": [
        "df.head()"
      ],
      "metadata": {
        "colab": {
          "base_uri": "https://localhost:8080/",
          "height": 498
        },
        "id": "cUfpxQrsVqX9",
        "outputId": "eebb24a2-9ff5-4cd3-c8a4-9bf3f3dcd07e"
      },
      "execution_count": 3,
      "outputs": [
        {
          "output_type": "execute_result",
          "data": {
            "text/plain": [
              "   book_id  goodreads_book_id  best_book_id  work_id  books_count        isbn  \\\n",
              "0       15              48855         48855  3532896          710   553296981   \n",
              "1       40              19501         19501  3352398          185   143038419   \n",
              "2       81               7445          7445  2944133           92  074324754X   \n",
              "3       82               1845          1845  3284484          108   385486804   \n",
              "4       87               1617          1617   265616          109   374500010   \n",
              "\n",
              "         isbn13                                            authors  \\\n",
              "0  9.780553e+12  Anne Frank, Eleanor Roosevelt, B.M. Mooyaart-D...   \n",
              "1  9.780143e+12                                  Elizabeth Gilbert   \n",
              "2  9.780743e+12                                    Jeannette Walls   \n",
              "3  9.780385e+12                                       Jon Krakauer   \n",
              "4  9.780375e+12                         Elie Wiesel, Marion Wiesel   \n",
              "\n",
              "   original_publication_year  \\\n",
              "0                     1947.0   \n",
              "1                     2006.0   \n",
              "2                     2005.0   \n",
              "3                     1996.0   \n",
              "4                     1958.0   \n",
              "\n",
              "                                      original_title  ... work_ratings_count  \\\n",
              "0  Het Achterhuis: Dagboekbrieven 14 juni 1942 - ...  ...            2024493   \n",
              "1  Eat, pray, love: one woman's search for everyt...  ...            1206597   \n",
              "2                                   The Glass Castle  ...             637866   \n",
              "3                                      Into the Wild  ...             665377   \n",
              "4                            Un di Velt Hot Geshvign  ...             707879   \n",
              "\n",
              "  work_text_reviews_count  ratings_1  ratings_2  ratings_3  ratings_4  \\\n",
              "0                   20825      45225      91270     355756     656870   \n",
              "1                   49714     100373     149549     310212     332191   \n",
              "2                   40777       7901      18922      85191     227750   \n",
              "3                   17299      19229      35567     135199     248287   \n",
              "4                   22001       7761      18539      90575     230227   \n",
              "\n",
              "   ratings_5                                          image_url  \\\n",
              "0     875372  https://images.gr-assets.com/books/1358276407m...   \n",
              "1     314272  https://images.gr-assets.com/books/1503066414m...   \n",
              "2     298102  https://images.gr-assets.com/books/1400930557m...   \n",
              "3     227095  https://images.gr-assets.com/books/1403173986m...   \n",
              "4     360777  https://images.gr-assets.com/books/1473495285m...   \n",
              "\n",
              "                                     small_image_url  NonEnglish  \n",
              "0  https://images.gr-assets.com/books/1358276407s...           0  \n",
              "1  https://images.gr-assets.com/books/1503066414s...           0  \n",
              "2  https://images.gr-assets.com/books/1400930557s...           0  \n",
              "3  https://images.gr-assets.com/books/1403173986s...           0  \n",
              "4  https://images.gr-assets.com/books/1473495285s...           0  \n",
              "\n",
              "[5 rows x 24 columns]"
            ],
            "text/html": [
              "\n",
              "  <div id=\"df-b8a83ec9-1ffd-4f85-a874-3b363413616e\" class=\"colab-df-container\">\n",
              "    <div>\n",
              "<style scoped>\n",
              "    .dataframe tbody tr th:only-of-type {\n",
              "        vertical-align: middle;\n",
              "    }\n",
              "\n",
              "    .dataframe tbody tr th {\n",
              "        vertical-align: top;\n",
              "    }\n",
              "\n",
              "    .dataframe thead th {\n",
              "        text-align: right;\n",
              "    }\n",
              "</style>\n",
              "<table border=\"1\" class=\"dataframe\">\n",
              "  <thead>\n",
              "    <tr style=\"text-align: right;\">\n",
              "      <th></th>\n",
              "      <th>book_id</th>\n",
              "      <th>goodreads_book_id</th>\n",
              "      <th>best_book_id</th>\n",
              "      <th>work_id</th>\n",
              "      <th>books_count</th>\n",
              "      <th>isbn</th>\n",
              "      <th>isbn13</th>\n",
              "      <th>authors</th>\n",
              "      <th>original_publication_year</th>\n",
              "      <th>original_title</th>\n",
              "      <th>...</th>\n",
              "      <th>work_ratings_count</th>\n",
              "      <th>work_text_reviews_count</th>\n",
              "      <th>ratings_1</th>\n",
              "      <th>ratings_2</th>\n",
              "      <th>ratings_3</th>\n",
              "      <th>ratings_4</th>\n",
              "      <th>ratings_5</th>\n",
              "      <th>image_url</th>\n",
              "      <th>small_image_url</th>\n",
              "      <th>NonEnglish</th>\n",
              "    </tr>\n",
              "  </thead>\n",
              "  <tbody>\n",
              "    <tr>\n",
              "      <th>0</th>\n",
              "      <td>15</td>\n",
              "      <td>48855</td>\n",
              "      <td>48855</td>\n",
              "      <td>3532896</td>\n",
              "      <td>710</td>\n",
              "      <td>553296981</td>\n",
              "      <td>9.780553e+12</td>\n",
              "      <td>Anne Frank, Eleanor Roosevelt, B.M. Mooyaart-D...</td>\n",
              "      <td>1947.0</td>\n",
              "      <td>Het Achterhuis: Dagboekbrieven 14 juni 1942 - ...</td>\n",
              "      <td>...</td>\n",
              "      <td>2024493</td>\n",
              "      <td>20825</td>\n",
              "      <td>45225</td>\n",
              "      <td>91270</td>\n",
              "      <td>355756</td>\n",
              "      <td>656870</td>\n",
              "      <td>875372</td>\n",
              "      <td>https://images.gr-assets.com/books/1358276407m...</td>\n",
              "      <td>https://images.gr-assets.com/books/1358276407s...</td>\n",
              "      <td>0</td>\n",
              "    </tr>\n",
              "    <tr>\n",
              "      <th>1</th>\n",
              "      <td>40</td>\n",
              "      <td>19501</td>\n",
              "      <td>19501</td>\n",
              "      <td>3352398</td>\n",
              "      <td>185</td>\n",
              "      <td>143038419</td>\n",
              "      <td>9.780143e+12</td>\n",
              "      <td>Elizabeth Gilbert</td>\n",
              "      <td>2006.0</td>\n",
              "      <td>Eat, pray, love: one woman's search for everyt...</td>\n",
              "      <td>...</td>\n",
              "      <td>1206597</td>\n",
              "      <td>49714</td>\n",
              "      <td>100373</td>\n",
              "      <td>149549</td>\n",
              "      <td>310212</td>\n",
              "      <td>332191</td>\n",
              "      <td>314272</td>\n",
              "      <td>https://images.gr-assets.com/books/1503066414m...</td>\n",
              "      <td>https://images.gr-assets.com/books/1503066414s...</td>\n",
              "      <td>0</td>\n",
              "    </tr>\n",
              "    <tr>\n",
              "      <th>2</th>\n",
              "      <td>81</td>\n",
              "      <td>7445</td>\n",
              "      <td>7445</td>\n",
              "      <td>2944133</td>\n",
              "      <td>92</td>\n",
              "      <td>074324754X</td>\n",
              "      <td>9.780743e+12</td>\n",
              "      <td>Jeannette Walls</td>\n",
              "      <td>2005.0</td>\n",
              "      <td>The Glass Castle</td>\n",
              "      <td>...</td>\n",
              "      <td>637866</td>\n",
              "      <td>40777</td>\n",
              "      <td>7901</td>\n",
              "      <td>18922</td>\n",
              "      <td>85191</td>\n",
              "      <td>227750</td>\n",
              "      <td>298102</td>\n",
              "      <td>https://images.gr-assets.com/books/1400930557m...</td>\n",
              "      <td>https://images.gr-assets.com/books/1400930557s...</td>\n",
              "      <td>0</td>\n",
              "    </tr>\n",
              "    <tr>\n",
              "      <th>3</th>\n",
              "      <td>82</td>\n",
              "      <td>1845</td>\n",
              "      <td>1845</td>\n",
              "      <td>3284484</td>\n",
              "      <td>108</td>\n",
              "      <td>385486804</td>\n",
              "      <td>9.780385e+12</td>\n",
              "      <td>Jon Krakauer</td>\n",
              "      <td>1996.0</td>\n",
              "      <td>Into the Wild</td>\n",
              "      <td>...</td>\n",
              "      <td>665377</td>\n",
              "      <td>17299</td>\n",
              "      <td>19229</td>\n",
              "      <td>35567</td>\n",
              "      <td>135199</td>\n",
              "      <td>248287</td>\n",
              "      <td>227095</td>\n",
              "      <td>https://images.gr-assets.com/books/1403173986m...</td>\n",
              "      <td>https://images.gr-assets.com/books/1403173986s...</td>\n",
              "      <td>0</td>\n",
              "    </tr>\n",
              "    <tr>\n",
              "      <th>4</th>\n",
              "      <td>87</td>\n",
              "      <td>1617</td>\n",
              "      <td>1617</td>\n",
              "      <td>265616</td>\n",
              "      <td>109</td>\n",
              "      <td>374500010</td>\n",
              "      <td>9.780375e+12</td>\n",
              "      <td>Elie Wiesel, Marion Wiesel</td>\n",
              "      <td>1958.0</td>\n",
              "      <td>Un di Velt Hot Geshvign</td>\n",
              "      <td>...</td>\n",
              "      <td>707879</td>\n",
              "      <td>22001</td>\n",
              "      <td>7761</td>\n",
              "      <td>18539</td>\n",
              "      <td>90575</td>\n",
              "      <td>230227</td>\n",
              "      <td>360777</td>\n",
              "      <td>https://images.gr-assets.com/books/1473495285m...</td>\n",
              "      <td>https://images.gr-assets.com/books/1473495285s...</td>\n",
              "      <td>0</td>\n",
              "    </tr>\n",
              "  </tbody>\n",
              "</table>\n",
              "<p>5 rows × 24 columns</p>\n",
              "</div>\n",
              "    <div class=\"colab-df-buttons\">\n",
              "\n",
              "  <div class=\"colab-df-container\">\n",
              "    <button class=\"colab-df-convert\" onclick=\"convertToInteractive('df-b8a83ec9-1ffd-4f85-a874-3b363413616e')\"\n",
              "            title=\"Convert this dataframe to an interactive table.\"\n",
              "            style=\"display:none;\">\n",
              "\n",
              "  <svg xmlns=\"http://www.w3.org/2000/svg\" height=\"24px\" viewBox=\"0 -960 960 960\">\n",
              "    <path d=\"M120-120v-720h720v720H120Zm60-500h600v-160H180v160Zm220 220h160v-160H400v160Zm0 220h160v-160H400v160ZM180-400h160v-160H180v160Zm440 0h160v-160H620v160ZM180-180h160v-160H180v160Zm440 0h160v-160H620v160Z\"/>\n",
              "  </svg>\n",
              "    </button>\n",
              "\n",
              "  <style>\n",
              "    .colab-df-container {\n",
              "      display:flex;\n",
              "      gap: 12px;\n",
              "    }\n",
              "\n",
              "    .colab-df-convert {\n",
              "      background-color: #E8F0FE;\n",
              "      border: none;\n",
              "      border-radius: 50%;\n",
              "      cursor: pointer;\n",
              "      display: none;\n",
              "      fill: #1967D2;\n",
              "      height: 32px;\n",
              "      padding: 0 0 0 0;\n",
              "      width: 32px;\n",
              "    }\n",
              "\n",
              "    .colab-df-convert:hover {\n",
              "      background-color: #E2EBFA;\n",
              "      box-shadow: 0px 1px 2px rgba(60, 64, 67, 0.3), 0px 1px 3px 1px rgba(60, 64, 67, 0.15);\n",
              "      fill: #174EA6;\n",
              "    }\n",
              "\n",
              "    .colab-df-buttons div {\n",
              "      margin-bottom: 4px;\n",
              "    }\n",
              "\n",
              "    [theme=dark] .colab-df-convert {\n",
              "      background-color: #3B4455;\n",
              "      fill: #D2E3FC;\n",
              "    }\n",
              "\n",
              "    [theme=dark] .colab-df-convert:hover {\n",
              "      background-color: #434B5C;\n",
              "      box-shadow: 0px 1px 3px 1px rgba(0, 0, 0, 0.15);\n",
              "      filter: drop-shadow(0px 1px 2px rgba(0, 0, 0, 0.3));\n",
              "      fill: #FFFFFF;\n",
              "    }\n",
              "  </style>\n",
              "\n",
              "    <script>\n",
              "      const buttonEl =\n",
              "        document.querySelector('#df-b8a83ec9-1ffd-4f85-a874-3b363413616e button.colab-df-convert');\n",
              "      buttonEl.style.display =\n",
              "        google.colab.kernel.accessAllowed ? 'block' : 'none';\n",
              "\n",
              "      async function convertToInteractive(key) {\n",
              "        const element = document.querySelector('#df-b8a83ec9-1ffd-4f85-a874-3b363413616e');\n",
              "        const dataTable =\n",
              "          await google.colab.kernel.invokeFunction('convertToInteractive',\n",
              "                                                    [key], {});\n",
              "        if (!dataTable) return;\n",
              "\n",
              "        const docLinkHtml = 'Like what you see? Visit the ' +\n",
              "          '<a target=\"_blank\" href=https://colab.research.google.com/notebooks/data_table.ipynb>data table notebook</a>'\n",
              "          + ' to learn more about interactive tables.';\n",
              "        element.innerHTML = '';\n",
              "        dataTable['output_type'] = 'display_data';\n",
              "        await google.colab.output.renderOutput(dataTable, element);\n",
              "        const docLink = document.createElement('div');\n",
              "        docLink.innerHTML = docLinkHtml;\n",
              "        element.appendChild(docLink);\n",
              "      }\n",
              "    </script>\n",
              "  </div>\n",
              "\n",
              "\n",
              "<div id=\"df-76737060-36ce-45aa-abc0-ec4b3084a957\">\n",
              "  <button class=\"colab-df-quickchart\" onclick=\"quickchart('df-76737060-36ce-45aa-abc0-ec4b3084a957')\"\n",
              "            title=\"Suggest charts\"\n",
              "            style=\"display:none;\">\n",
              "\n",
              "<svg xmlns=\"http://www.w3.org/2000/svg\" height=\"24px\"viewBox=\"0 0 24 24\"\n",
              "     width=\"24px\">\n",
              "    <g>\n",
              "        <path d=\"M19 3H5c-1.1 0-2 .9-2 2v14c0 1.1.9 2 2 2h14c1.1 0 2-.9 2-2V5c0-1.1-.9-2-2-2zM9 17H7v-7h2v7zm4 0h-2V7h2v10zm4 0h-2v-4h2v4z\"/>\n",
              "    </g>\n",
              "</svg>\n",
              "  </button>\n",
              "\n",
              "<style>\n",
              "  .colab-df-quickchart {\n",
              "      --bg-color: #E8F0FE;\n",
              "      --fill-color: #1967D2;\n",
              "      --hover-bg-color: #E2EBFA;\n",
              "      --hover-fill-color: #174EA6;\n",
              "      --disabled-fill-color: #AAA;\n",
              "      --disabled-bg-color: #DDD;\n",
              "  }\n",
              "\n",
              "  [theme=dark] .colab-df-quickchart {\n",
              "      --bg-color: #3B4455;\n",
              "      --fill-color: #D2E3FC;\n",
              "      --hover-bg-color: #434B5C;\n",
              "      --hover-fill-color: #FFFFFF;\n",
              "      --disabled-bg-color: #3B4455;\n",
              "      --disabled-fill-color: #666;\n",
              "  }\n",
              "\n",
              "  .colab-df-quickchart {\n",
              "    background-color: var(--bg-color);\n",
              "    border: none;\n",
              "    border-radius: 50%;\n",
              "    cursor: pointer;\n",
              "    display: none;\n",
              "    fill: var(--fill-color);\n",
              "    height: 32px;\n",
              "    padding: 0;\n",
              "    width: 32px;\n",
              "  }\n",
              "\n",
              "  .colab-df-quickchart:hover {\n",
              "    background-color: var(--hover-bg-color);\n",
              "    box-shadow: 0 1px 2px rgba(60, 64, 67, 0.3), 0 1px 3px 1px rgba(60, 64, 67, 0.15);\n",
              "    fill: var(--button-hover-fill-color);\n",
              "  }\n",
              "\n",
              "  .colab-df-quickchart-complete:disabled,\n",
              "  .colab-df-quickchart-complete:disabled:hover {\n",
              "    background-color: var(--disabled-bg-color);\n",
              "    fill: var(--disabled-fill-color);\n",
              "    box-shadow: none;\n",
              "  }\n",
              "\n",
              "  .colab-df-spinner {\n",
              "    border: 2px solid var(--fill-color);\n",
              "    border-color: transparent;\n",
              "    border-bottom-color: var(--fill-color);\n",
              "    animation:\n",
              "      spin 1s steps(1) infinite;\n",
              "  }\n",
              "\n",
              "  @keyframes spin {\n",
              "    0% {\n",
              "      border-color: transparent;\n",
              "      border-bottom-color: var(--fill-color);\n",
              "      border-left-color: var(--fill-color);\n",
              "    }\n",
              "    20% {\n",
              "      border-color: transparent;\n",
              "      border-left-color: var(--fill-color);\n",
              "      border-top-color: var(--fill-color);\n",
              "    }\n",
              "    30% {\n",
              "      border-color: transparent;\n",
              "      border-left-color: var(--fill-color);\n",
              "      border-top-color: var(--fill-color);\n",
              "      border-right-color: var(--fill-color);\n",
              "    }\n",
              "    40% {\n",
              "      border-color: transparent;\n",
              "      border-right-color: var(--fill-color);\n",
              "      border-top-color: var(--fill-color);\n",
              "    }\n",
              "    60% {\n",
              "      border-color: transparent;\n",
              "      border-right-color: var(--fill-color);\n",
              "    }\n",
              "    80% {\n",
              "      border-color: transparent;\n",
              "      border-right-color: var(--fill-color);\n",
              "      border-bottom-color: var(--fill-color);\n",
              "    }\n",
              "    90% {\n",
              "      border-color: transparent;\n",
              "      border-bottom-color: var(--fill-color);\n",
              "    }\n",
              "  }\n",
              "</style>\n",
              "\n",
              "  <script>\n",
              "    async function quickchart(key) {\n",
              "      const quickchartButtonEl =\n",
              "        document.querySelector('#' + key + ' button');\n",
              "      quickchartButtonEl.disabled = true;  // To prevent multiple clicks.\n",
              "      quickchartButtonEl.classList.add('colab-df-spinner');\n",
              "      try {\n",
              "        const charts = await google.colab.kernel.invokeFunction(\n",
              "            'suggestCharts', [key], {});\n",
              "      } catch (error) {\n",
              "        console.error('Error during call to suggestCharts:', error);\n",
              "      }\n",
              "      quickchartButtonEl.classList.remove('colab-df-spinner');\n",
              "      quickchartButtonEl.classList.add('colab-df-quickchart-complete');\n",
              "    }\n",
              "    (() => {\n",
              "      let quickchartButtonEl =\n",
              "        document.querySelector('#df-76737060-36ce-45aa-abc0-ec4b3084a957 button');\n",
              "      quickchartButtonEl.style.display =\n",
              "        google.colab.kernel.accessAllowed ? 'block' : 'none';\n",
              "    })();\n",
              "  </script>\n",
              "</div>\n",
              "\n",
              "    </div>\n",
              "  </div>\n"
            ]
          },
          "metadata": {},
          "execution_count": 3
        }
      ]
    },
    {
      "cell_type": "markdown",
      "source": [
        "# **Q1.How many rows and columns are there in books.csv dataset?**"
      ],
      "metadata": {
        "id": "faKUsl5wTLBa"
      }
    },
    {
      "cell_type": "code",
      "source": [
        "df.shape"
      ],
      "metadata": {
        "colab": {
          "base_uri": "https://localhost:8080/"
        },
        "id": "9p7KjRBeTSmn",
        "outputId": "d243fb45-e811-4980-8fe7-646947928ef2"
      },
      "execution_count": 4,
      "outputs": [
        {
          "output_type": "execute_result",
          "data": {
            "text/plain": [
              "(399, 24)"
            ]
          },
          "metadata": {},
          "execution_count": 4
        }
      ]
    },
    {
      "cell_type": "code",
      "source": [
        "print('Total no. of rows is 399 and columns is 24.')"
      ],
      "metadata": {
        "colab": {
          "base_uri": "https://localhost:8080/"
        },
        "id": "TKB8v5_RTU1T",
        "outputId": "43de75f4-fdd7-4613-8d76-604b69ed98fa"
      },
      "execution_count": 5,
      "outputs": [
        {
          "output_type": "stream",
          "name": "stdout",
          "text": [
            "Total no. of rows is 399 and columns is 24.\n"
          ]
        }
      ]
    },
    {
      "cell_type": "markdown",
      "source": [
        "# **Q2.How many books do not have an original title?**"
      ],
      "metadata": {
        "id": "5zm9ATJbTXtt"
      }
    },
    {
      "cell_type": "code",
      "source": [
        "df['original_title'].isnull().sum()"
      ],
      "metadata": {
        "colab": {
          "base_uri": "https://localhost:8080/"
        },
        "id": "PKO_oKW9TjB3",
        "outputId": "3049ceae-62db-4643-fb0c-25cd3fbc7fe1"
      },
      "execution_count": 6,
      "outputs": [
        {
          "output_type": "execute_result",
          "data": {
            "text/plain": [
              "36"
            ]
          },
          "metadata": {},
          "execution_count": 6
        }
      ]
    },
    {
      "cell_type": "code",
      "source": [
        "print('36 books do not have an original title.')"
      ],
      "metadata": {
        "colab": {
          "base_uri": "https://localhost:8080/"
        },
        "id": "z9k6LD6STlc4",
        "outputId": "f96adc7e-ed12-4d6a-c2bb-f7f4fc94483b"
      },
      "execution_count": 7,
      "outputs": [
        {
          "output_type": "stream",
          "name": "stdout",
          "text": [
            "36 books do not have an original title.\n"
          ]
        }
      ]
    },
    {
      "cell_type": "markdown",
      "source": [
        "# **Q3.How many unique books are present in the dataset?**"
      ],
      "metadata": {
        "id": "XIgWPsXxToKy"
      }
    },
    {
      "cell_type": "code",
      "source": [
        "df['book_id'].nunique()"
      ],
      "metadata": {
        "colab": {
          "base_uri": "https://localhost:8080/"
        },
        "id": "pNgbZy7zTyRW",
        "outputId": "0bf96a39-560c-4516-f0a1-a5e68061e22c"
      },
      "execution_count": 8,
      "outputs": [
        {
          "output_type": "execute_result",
          "data": {
            "text/plain": [
              "399"
            ]
          },
          "metadata": {},
          "execution_count": 8
        }
      ]
    },
    {
      "cell_type": "code",
      "source": [
        "print('399 unique books are present in the dataset.')"
      ],
      "metadata": {
        "colab": {
          "base_uri": "https://localhost:8080/"
        },
        "id": "pB3jiCF3T1VM",
        "outputId": "6ac23d90-a68f-4492-d916-a33ca5f90f10"
      },
      "execution_count": 9,
      "outputs": [
        {
          "output_type": "stream",
          "name": "stdout",
          "text": [
            "399 unique books are present in the dataset.\n"
          ]
        }
      ]
    },
    {
      "cell_type": "markdown",
      "source": [
        "# **Q4.What is the average rating of all the books in the dataset based on ‘average_rating’?**"
      ],
      "metadata": {
        "id": "wCubm6-bUJC5"
      }
    },
    {
      "cell_type": "code",
      "source": [
        "df['average_rating'].mean()"
      ],
      "metadata": {
        "colab": {
          "base_uri": "https://localhost:8080/"
        },
        "id": "YQiZ0f0uUS_I",
        "outputId": "572b7fec-56f2-45f4-8372-8f40b9164e61"
      },
      "execution_count": 10,
      "outputs": [
        {
          "output_type": "execute_result",
          "data": {
            "text/plain": [
              "3.9837844611528817"
            ]
          },
          "metadata": {},
          "execution_count": 10
        }
      ]
    },
    {
      "cell_type": "code",
      "source": [
        "print('3.9837844611528817 is the average rating of all the books in the dataset based on average_rating.')"
      ],
      "metadata": {
        "colab": {
          "base_uri": "https://localhost:8080/"
        },
        "id": "bVgo23U3UXjA",
        "outputId": "10b7ceaf-b40a-4313-f435-3d6ab64bc465"
      },
      "execution_count": 11,
      "outputs": [
        {
          "output_type": "stream",
          "name": "stdout",
          "text": [
            "3.9837844611528817 is the average rating of all the books in the dataset based on average_rating.\n"
          ]
        }
      ]
    }
  ]
}